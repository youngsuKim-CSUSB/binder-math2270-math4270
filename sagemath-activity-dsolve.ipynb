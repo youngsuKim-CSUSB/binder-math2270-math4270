{
 "cells": [
  {
   "cell_type": "markdown",
   "id": "c8807d6a-0d8d-4c7a-b58c-a248d915f35f",
   "metadata": {
    "jp-MarkdownHeadingCollapsed": true,
    "tags": []
   },
   "source": [
    "Instructions for JupyterLab\n",
    "---\n",
    "\n",
    "To execute a cell in JupyterLab, press ``shift`` + ``return``. The content may take about 20-30 minutes to finish. Use the remaining time to get familiar with the ``JupyterLab`` and ``Sagemath`` environments. \n",
    "First, make sure you use ``SageMath`` instead of regular Python. To change it follow the instructions below. The version of SageMath is not important for this exercise.\n",
    "\n",
    "![image1](./photos/kernel-icon.png)\n",
    "![image2](./photos/kernel-pic1.png)\n",
    "![image3](./photos/kernel-pic2.png)\n"
   ]
  },
  {
   "cell_type": "markdown",
   "id": "4d96fd67",
   "metadata": {},
   "source": [
    "\n",
    "Goal\n",
    "----\n",
    "\n",
    "This activity sheet aims at getting used to computer algebra software named SageMath. Here is a link to [Sagemath webpage](https://www.sagemath.org). The current IDE is called [JupyterLab](https://jupyter.org). Use this to do your HW assignment on SageMath. \n",
    "\n",
    "We will learn how to input differential equations in SageMath and use `dsolve` to get solutions. The arbitrary variables may come with the prefix `_` and symbols.\n",
    "\n",
    "`#` is for comments. So anything after `#` won't have any effect in the execution. "
   ]
  },
  {
   "cell_type": "code",
   "execution_count": 17,
   "id": "db4a624d-45a9-4a15-b61f-44de39832f67",
   "metadata": {
    "execution": {
     "iopub.execute_input": "2024-03-20T01:57:58.671814Z",
     "iopub.status.busy": "2024-03-20T01:57:58.670754Z",
     "iopub.status.idle": "2024-03-20T01:57:58.679265Z",
     "shell.execute_reply": "2024-03-20T01:57:58.678139Z",
     "shell.execute_reply.started": "2024-03-20T01:57:58.671778Z"
    }
   },
   "outputs": [],
   "source": [
    "# Load the desolve package\n",
    "# source: https://doc.sagemath.org/html/en/reference/calculus/sage/calculus/desolvers.html\n",
    "from sage.calculus.desolvers import desolve\n",
    "\n",
    "# Define the variables x, y(x)\n",
    "x = var('x')\n",
    "y = function('y')(x)"
   ]
  },
  {
   "cell_type": "code",
   "execution_count": 18,
   "id": "2e51435d-5714-464d-b707-1e89be89c4b7",
   "metadata": {
    "execution": {
     "iopub.execute_input": "2024-03-20T01:57:59.628599Z",
     "iopub.status.busy": "2024-03-20T01:57:59.627462Z",
     "iopub.status.idle": "2024-03-20T01:57:59.637279Z",
     "shell.execute_reply": "2024-03-20T01:57:59.636378Z",
     "shell.execute_reply.started": "2024-03-20T01:57:59.628553Z"
    }
   },
   "outputs": [
    {
     "name": "stdout",
     "output_type": "stream",
     "text": [
      "2*x\n",
      "diff(y(x), x)\n",
      "diff(y(x), x, x)\n"
     ]
    }
   ],
   "source": [
    "#test\n",
    "print(diff(x^2,x)) # (x^2)'\n",
    "print(diff(y,x,1)) # y' but we will see diff(y,x)\n",
    "print(diff(y,x,2)) # y'' but we will see diff(y,x,x)"
   ]
  },
  {
   "cell_type": "code",
   "execution_count": 21,
   "id": "f2cf0089-16bc-45b6-a3ef-542644768e41",
   "metadata": {
    "execution": {
     "iopub.execute_input": "2024-03-20T02:10:48.484755Z",
     "iopub.status.busy": "2024-03-20T02:10:48.482264Z",
     "iopub.status.idle": "2024-03-20T02:10:48.510045Z",
     "shell.execute_reply": "2024-03-20T02:10:48.509325Z",
     "shell.execute_reply.started": "2024-03-20T02:10:48.484673Z"
    }
   },
   "outputs": [
    {
     "data": {
      "text/plain": [
       "_C*e^(-2*x)"
      ]
     },
     "execution_count": 21,
     "metadata": {},
     "output_type": "execute_result"
    }
   ],
   "source": [
    "# define a differential equation: \n",
    "# For y' + 2y = 0, we write it as y' + 2y = 0 and use the LHS\n",
    "DE1 = diff(y,x,1) + 2*y \n",
    "\n",
    "desolve(DE1, dvar=y)"
   ]
  },
  {
   "cell_type": "code",
   "execution_count": 22,
   "id": "0ef5dcb6-0870-4bb5-baa5-bf071cfcd91f",
   "metadata": {
    "execution": {
     "iopub.execute_input": "2024-03-20T02:10:49.870238Z",
     "iopub.status.busy": "2024-03-20T02:10:49.869240Z",
     "iopub.status.idle": "2024-03-20T02:10:49.887208Z",
     "shell.execute_reply": "2024-03-20T02:10:49.886341Z",
     "shell.execute_reply.started": "2024-03-20T02:10:49.870205Z"
    }
   },
   "outputs": [
    {
     "data": {
      "text/plain": [
       "1/4*(4*_C + e^(4*x))*e^(-x)"
      ]
     },
     "execution_count": 22,
     "metadata": {},
     "output_type": "execute_result"
    }
   ],
   "source": [
    "# define a differential equation: \n",
    "# For y' + y = e^{3x}, we write it as y' + y - e^{3x} = 0 and use the LHS\n",
    "DE2 = diff(y,x,1) + y - e^(3*x) \n",
    "\n",
    "desolve(DE2, dvar=y)"
   ]
  },
  {
   "cell_type": "markdown",
   "id": "d054a39d",
   "metadata": {},
   "source": [
    "# Use this to do your HW assignment on SageMath\n",
    "\n",
    "The school server is provided by the CSUSB's [high-performance computing program](https://www.csusb.edu/academic-technologies-innovation/xreal-lab-and-high-performance-computing/high-performance-computing).\n"
   ]
  },
  {
   "cell_type": "code",
   "execution_count": null,
   "id": "ad6e8c49-0ce6-4544-acd7-cd58dadc2f7f",
   "metadata": {},
   "outputs": [],
   "source": []
  }
 ],
 "metadata": {
  "kernelspec": {
   "display_name": "SageMath 9.6",
   "language": "sage",
   "name": "sage"
  },
  "language_info": {
   "codemirror_mode": {
    "name": "ipython",
    "version": 3
   },
   "file_extension": ".py",
   "mimetype": "text/x-python",
   "name": "python",
   "nbconvert_exporter": "python",
   "pygments_lexer": "ipython3",
   "version": "3.10.9"
  },
  "vscode": {
   "interpreter": {
    "hash": "f7f16ecf077796f3f01c04bce007394124e3739a6b511142e60b06ebe1af063b"
   }
  }
 },
 "nbformat": 4,
 "nbformat_minor": 5
}
